{
 "cells": [
  {
   "cell_type": "code",
   "execution_count": null,
   "metadata": {},
   "outputs": [
    {
     "name": "stdout",
     "output_type": "stream",
     "text": [
      " * Serving Flask app \"__main__\" (lazy loading)\n",
      " * Environment: production\n",
      "   WARNING: This is a development server. Do not use it in a production deployment.\n",
      "   Use a production WSGI server instead.\n",
      " * Debug mode: off\n"
     ]
    },
    {
     "name": "stderr",
     "output_type": "stream",
     "text": [
      " * Running on http://0.0.0.0:81/ (Press CTRL+C to quit)\n",
      "127.0.0.1 - - [19/May/2021 13:20:15] \"\u001b[37mGET / HTTP/1.1\u001b[0m\" 200 -\n",
      "127.0.0.1 - - [19/May/2021 13:20:18] \"\u001b[37mPOST /result HTTP/1.1\u001b[0m\" 200 -\n"
     ]
    },
    {
     "name": "stdout",
     "output_type": "stream",
     "text": [
      "1\n"
     ]
    },
    {
     "name": "stderr",
     "output_type": "stream",
     "text": [
      "127.0.0.1 - - [19/May/2021 13:20:24] \"\u001b[37mGET / HTTP/1.1\u001b[0m\" 200 -\n",
      "127.0.0.1 - - [19/May/2021 13:20:27] \"\u001b[37mPOST /result HTTP/1.1\u001b[0m\" 200 -\n"
     ]
    },
    {
     "name": "stdout",
     "output_type": "stream",
     "text": [
      "5\n"
     ]
    }
   ],
   "source": [
    "from flask import Flask\n",
    "from flask import render_template\n",
    "from flask import request\n",
    "\n",
    "from flask import Flask, redirect, url_for, request\n",
    "\n",
    "import csv\n",
    "import pandas as pd\n",
    "#driver_csv = pd.read_csv(r\"E:\\ESM\\BlockedWeek\\f1db_csv\\drivers.csv\")\n",
    "#driver_ranking = pd.read_csv(r\"E:\\ESM\\BlockedWeek\\f1db_csv\\driver_standings.csv\")\n",
    "\n",
    "driver_csv = pd.read_csv(r\"..\\..\\f1db_csv\\drivers.csv\")\n",
    "driver_ranking = pd.read_csv(r\"..\\..\\f1db_csv\\driver_standings.csv\")\n",
    "\n",
    "# print(driver_csv.head())\n",
    "# print(driver_ranking.head())\n",
    "\n",
    "def get_driver_info(driverId):\n",
    "    merged_dataframe = pd.merge(driver_csv,driver_ranking,on ='driverId', how = 'left')\n",
    "    filtered_data=merged_dataframe.loc[merged_dataframe['driverId'] == driverId]\n",
    "    filtered_data.to_html(r\".\\templates\\driver.html\")\n",
    "    #render_template('driver.html',content=\"test\")\n",
    "    #return filtered_data\n",
    "\n",
    "#get_driver_info(1)\n",
    "\n",
    "app = Flask(__name__)\n",
    "\n",
    "\n",
    "\n",
    "\n",
    "@app.route('/homepage')\n",
    "#def index():\n",
    "    #return 'Team 6!'\n",
    "def driver_info():\n",
    "    return render_template('get_driver_info(1)')\n",
    "\n",
    "@app.route('/')\n",
    "def student():\n",
    "   return render_template('student.html')\n",
    "\n",
    "\n",
    "@app.route('/result',methods = ['POST', 'GET'])\n",
    "def result():\n",
    "   if request.method == 'POST':\n",
    "      result = request.form\n",
    "      print(\"result =\",result)\n",
    "      print(request.form['DriverId'])\n",
    "      a = int(request.form['DriverId'])\n",
    "      get_driver_info(a)\n",
    "      return render_template('driver.html',result = result)\n",
    "#@app.route('/drivers')\n",
    "#def driverDisp():\n",
    "    #read cvs file\n",
    "    #take driver name and rank\n",
    "    #display on screen\n",
    "    \n",
    "@app.route('/races')\n",
    "def raceDisp():\n",
    "    #read csv file\n",
    "    infile = open(\"races.csv\")\n",
    "\n",
    "    for line in infile:\n",
    "        row = line.split(\",\")\n",
    "        race = row[0]\n",
    "        year = row[1]\n",
    "        rnd = row[2]\n",
    "        circuit = row[3]\n",
    "        name = row[4]\n",
    "        date = row[5]\n",
    "        time = row[6]\n",
    "        wiki = row[7]\n",
    "\n",
    "        print(\"<tr>\")\n",
    "        print(\"<td>%s</td>\" % race)\n",
    "        print(\"<td>%s</td>\" % year)\n",
    "        print(\"<td>%s</td>\" % rnd)\n",
    "        print(\"<td>%s</td>\" % circuit)\n",
    "        print(\"<td>%s</td>\" % name)\n",
    "        print(\"<td>%s</td>\" % date)\n",
    "        print(\"<td>%s</td>\" % time)\n",
    "        print(\"<td>%s</td>\" % wiki)\n",
    "        print(\"</tr>\")\n",
    "\n",
    "    #end table\n",
    "    print(\"</table>\")\n",
    "    #display on screen\n",
    "    \n",
    "\n",
    "\n",
    "app.run(host='0.0.0.0', port=81)"
   ]
  },
  {
   "cell_type": "code",
   "execution_count": null,
   "metadata": {},
   "outputs": [],
   "source": []
  },
  {
   "cell_type": "code",
   "execution_count": null,
   "metadata": {},
   "outputs": [],
   "source": []
  }
 ],
 "metadata": {
  "kernelspec": {
   "display_name": "Python 3",
   "language": "python",
   "name": "python3"
  },
  "language_info": {
   "codemirror_mode": {
    "name": "ipython",
    "version": 3
   },
   "file_extension": ".py",
   "mimetype": "text/x-python",
   "name": "python",
   "nbconvert_exporter": "python",
   "pygments_lexer": "ipython3",
   "version": "3.6.5"
  }
 },
 "nbformat": 4,
 "nbformat_minor": 2
}
